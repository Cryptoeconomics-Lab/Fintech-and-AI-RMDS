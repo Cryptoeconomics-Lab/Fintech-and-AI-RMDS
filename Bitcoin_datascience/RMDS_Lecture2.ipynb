{
  "nbformat": 4,
  "nbformat_minor": 0,
  "metadata": {
    "colab": {
      "name": "RMDS_Lecture2.ipynb",
      "provenance": [],
      "private_outputs": true,
      "authorship_tag": "ABX9TyMA4Kokm3V2Kg8xEGKMEr2O",
      "include_colab_link": true
    },
    "kernelspec": {
      "name": "python3",
      "display_name": "Python 3"
    }
  },
  "cells": [
    {
      "cell_type": "markdown",
      "metadata": {
        "id": "view-in-github",
        "colab_type": "text"
      },
      "source": [
        "<a href=\"https://colab.research.google.com/github/sunshineluyao/Fintech-and-AI-RMDS/blob/master/Bitcoin_datascience/RMDS_Lecture2.ipynb\" target=\"_parent\"><img src=\"https://colab.research.google.com/assets/colab-badge.svg\" alt=\"Open In Colab\"/></a>"
      ]
    },
    {
      "cell_type": "markdown",
      "metadata": {
        "id": "BAEYC5vRhJGr",
        "colab_type": "text"
      },
      "source": [
        "### This jupyter notebook is created for the [Fintech and AI course at RMDS Deep Dive](https://www.eventbrite.com/e/rmds-deep-dive-financial-technology-cryptocurrency-ai-tickets-109884403208#)\n",
        " Lecture 2 \"Economist, Data Scientist, and Data Engineer Ensemble\"\n"
      ]
    },
    {
      "cell_type": "markdown",
      "metadata": {
        "id": "Q3bID2vVjO_t",
        "colab_type": "text"
      },
      "source": [
        "**Step 1: Import Data**"
      ]
    },
    {
      "cell_type": "code",
      "metadata": {
        "id": "tWZsyJFrf3A9",
        "colab_type": "code",
        "colab": {}
      },
      "source": [
        "### import packages\n",
        "import pandas as pd\n",
        "import numpy as np"
      ],
      "execution_count": null,
      "outputs": []
    },
    {
      "cell_type": "code",
      "metadata": {
        "id": "1aQyICG4jdkN",
        "colab_type": "code",
        "colab": {}
      },
      "source": [
        "### imort data from Github Repo\n",
        "### ! be sure to provide the raw link\n",
        "df_CM=pd.read_csv(\"https://raw.githubusercontent.com/sunshineluyao/Fintech-and-AI-RMDS/master/Bitcoin_datascience/btc.csv\")\n",
        "df_CM.head()"
      ],
      "execution_count": null,
      "outputs": []
    },
    {
      "cell_type": "markdown",
      "metadata": {
        "id": "5ctbUQ6DkIB0",
        "colab_type": "text"
      },
      "source": [
        "**Step 2: Data Wrangling** "
      ]
    },
    {
      "cell_type": "code",
      "metadata": {
        "id": "ZeqRLLbMj1Ou",
        "colab_type": "code",
        "colab": {}
      },
      "source": [
        "### View and Check Data Type\n",
        "df_CM.info()"
      ],
      "execution_count": null,
      "outputs": []
    },
    {
      "cell_type": "code",
      "metadata": {
        "id": "nx4eaCzrkhrz",
        "colab_type": "code",
        "colab": {}
      },
      "source": [
        "### Change the time variable to datetime format\n",
        "df_CM['time']=pd.to_datetime(df_CM['time'])\n",
        "df_CM.info()"
      ],
      "execution_count": null,
      "outputs": []
    },
    {
      "cell_type": "code",
      "metadata": {
        "id": "5yeSxl0flGoW",
        "colab_type": "code",
        "colab": {}
      },
      "source": [
        "###view the first timestamp\n",
        "pd.Timestamp(df_CM['time'][0])"
      ],
      "execution_count": null,
      "outputs": []
    },
    {
      "cell_type": "code",
      "metadata": {
        "id": "8euuFVECloqn",
        "colab_type": "code",
        "colab": {}
      },
      "source": [
        "df_CM.head()"
      ],
      "execution_count": null,
      "outputs": []
    },
    {
      "cell_type": "code",
      "metadata": {
        "id": "AN54R6NUlRW4",
        "colab_type": "code",
        "colab": {}
      },
      "source": [
        "### Change the datetime representations\n",
        "df_CM['time']=df_CM['time'].dt.strftime('%m-%d-%Y')\n",
        "df_CM.head()"
      ],
      "execution_count": null,
      "outputs": []
    },
    {
      "cell_type": "code",
      "metadata": {
        "id": "cZUsekTxlVBg",
        "colab_type": "code",
        "colab": {}
      },
      "source": [
        "### Set time as index\n",
        "df_CM.set_index('time',drop=True,inplace=True)\n",
        "df_CM.head()"
      ],
      "execution_count": null,
      "outputs": []
    },
    {
      "cell_type": "code",
      "metadata": {
        "id": "-Ic1vz4AmLxz",
        "colab_type": "code",
        "colab": {}
      },
      "source": [
        "###Drop index name\n",
        "df_CM.index.name=None\n",
        "df_CM.head()"
      ],
      "execution_count": null,
      "outputs": []
    },
    {
      "cell_type": "code",
      "metadata": {
        "id": "iVuwRMM32Fp4",
        "colab_type": "code",
        "colab": {}
      },
      "source": [
        "# set the index to datetime format\n",
        "df_CM.index=pd.to_datetime(df_CM.index)"
      ],
      "execution_count": null,
      "outputs": []
    },
    {
      "cell_type": "markdown",
      "metadata": {
        "id": "HubCYldlmUwN",
        "colab_type": "text"
      },
      "source": [
        "**Step 3: Visualization**"
      ]
    },
    {
      "cell_type": "code",
      "metadata": {
        "id": "rm3w_L8umPkx",
        "colab_type": "code",
        "colab": {}
      },
      "source": [
        "### Import packages for graphing\n",
        "\n",
        "import matplotlib.pyplot as plt\n",
        "import matplotlib.dates as mdates"
      ],
      "execution_count": null,
      "outputs": []
    },
    {
      "cell_type": "code",
      "metadata": {
        "id": "L_3D4hmqx83C",
        "colab_type": "code",
        "colab": {}
      },
      "source": [
        "### list all ploting styles\n",
        "print(plt.style.available)"
      ],
      "execution_count": null,
      "outputs": []
    },
    {
      "cell_type": "markdown",
      "metadata": {
        "id": "_Un1sdY3yH_3",
        "colab_type": "text"
      },
      "source": [
        "Check legends for different ploting styles [here](https://matplotlib.org/3.1.1/gallery/style_sheets/style_sheets_reference.html). "
      ]
    },
    {
      "cell_type": "code",
      "metadata": {
        "id": "V6A8h2fDyB3l",
        "colab_type": "code",
        "colab": {}
      },
      "source": [
        "### Set the ploting style\n",
        "plt.style.use('seaborn-bright')"
      ],
      "execution_count": null,
      "outputs": []
    },
    {
      "cell_type": "code",
      "metadata": {
        "id": "sOqu0Hk-yaSt",
        "colab_type": "code",
        "colab": {}
      },
      "source": [
        "### List all the columns\n",
        "df_CM.columns"
      ],
      "execution_count": null,
      "outputs": []
    },
    {
      "cell_type": "code",
      "metadata": {
        "id": "rJFZp6Ymyf8W",
        "colab_type": "code",
        "colab": {}
      },
      "source": [
        "### Plot The number of block produced daily in the Bitcoin system.\n",
        "ax = df_CM['AdrActCnt'].plot(color='blue', figsize=(14, 10), linewidth=2, fontsize=16)\n",
        "\n",
        "# Specify the x-axis label in your plot\n",
        "ax.set_xlabel('Date',fontsize=14)\n",
        "\n",
        "# Specify the title in your plot\n",
        "ax.set_title('The sum count of unique addresses that were active in the network', fontsize=16)\n",
        "\n",
        "\n",
        "# Show plot\n",
        "plt.savefig('btc_AdrActCnt')"
      ],
      "execution_count": null,
      "outputs": []
    },
    {
      "cell_type": "code",
      "metadata": {
        "id": "FpHXtOMbyo8H",
        "colab_type": "code",
        "colab": {}
      },
      "source": [
        "### Plot The number of block produced daily in the Bitcoin system.\n",
        "ax = df_CM['BlkCnt'].plot(color='blue', figsize=(14, 10), linewidth=2, fontsize=16)\n",
        "\n",
        "# Specify the x-axis label in your plot\n",
        "ax.set_xlabel('Date',fontsize=14)\n",
        "\n",
        "# Specify the title in your plot\n",
        "ax.set_title('The sum count of blocks created that interval that were included in the main (base) chain.', fontsize=16)\n",
        "\n",
        "\n",
        "# Show plot\n",
        "plt.savefig('btc_BlkCnt')"
      ],
      "execution_count": null,
      "outputs": []
    },
    {
      "cell_type": "code",
      "metadata": {
        "id": "Vu3lCO1Gze5j",
        "colab_type": "code",
        "colab": {}
      },
      "source": [
        "### Plot The number of block produced daily in the Bitcoin system.\n",
        "ax = df_CM['BlkSizeByte'].plot(color='blue', figsize=(14, 10), linewidth=2, fontsize=16)\n",
        "\n",
        "# Specify the x-axis label in your plot\n",
        "ax.set_xlabel('Date',fontsize=14)\n",
        "\n",
        "# Specify the title in your plot\n",
        "ax.set_title('The sum of the size (in bytes) of all blocks created that interval.', fontsize=16)\n",
        "\n",
        "\n",
        "# Show plot\n",
        "plt.savefig('btc_BlkSizeByte')"
      ],
      "execution_count": null,
      "outputs": []
    },
    {
      "cell_type": "code",
      "metadata": {
        "id": "dOI8925IzpF8",
        "colab_type": "code",
        "colab": {}
      },
      "source": [
        "df_CM.columns"
      ],
      "execution_count": null,
      "outputs": []
    },
    {
      "cell_type": "code",
      "metadata": {
        "id": "bFTka45mz7bE",
        "colab_type": "code",
        "colab": {}
      },
      "source": [
        "### Plot The number of block produced daily in the Bitcoin system.\n",
        "ax = df_CM['BlkSizeMeanByte'].plot(color='blue', figsize=(14, 10), linewidth=2, fontsize=16)\n",
        "\n",
        "# Specify the x-axis label in your plot\n",
        "ax.set_xlabel('Date',fontsize=14)\n",
        "\n",
        "# Specify the title in your plot\n",
        "ax.set_title('The mean size (in bytes) of all blocks created that day.', fontsize=16)\n",
        "\n",
        "\n",
        "# Show plot\n",
        "plt.savefig('btc_BlkSizeMeanByte')"
      ],
      "execution_count": null,
      "outputs": []
    },
    {
      "cell_type": "code",
      "metadata": {
        "id": "yxrCgwck0K4g",
        "colab_type": "code",
        "colab": {}
      },
      "source": [
        "### Plot The number of block produced daily in the Bitcoin system.\n",
        "ax = df_CM['CapMVRVCur'].plot(color='blue', figsize=(14, 10), linewidth=2, fontsize=16)\n",
        "\n",
        "# Specify the x-axis label in your plot\n",
        "ax.set_xlabel('Date',fontsize=14)\n",
        "\n",
        "# Specify the title in your plot\n",
        "ax.set_title('The ratio of the sum USD value of the current supply to the sum \"realized\" USD value of the current supply.', fontsize=16)\n",
        "\n",
        "\n",
        "# Show plot\n",
        "plt.savefig('btc_BlkSizeMeanByte')"
      ],
      "execution_count": null,
      "outputs": []
    },
    {
      "cell_type": "code",
      "metadata": {
        "id": "hAVrjj780cIi",
        "colab_type": "code",
        "colab": {}
      },
      "source": [
        "### Plot The number of block produced daily in the Bitcoin system.\n",
        "ax = df_CM['CapMrktCurUSD'].plot(color='blue', figsize=(14, 10), linewidth=2, fontsize=16)\n",
        "\n",
        "# Specify the x-axis label in your plot\n",
        "ax.set_xlabel('Date',fontsize=14)\n",
        "\n",
        "# Specify the title in your plot\n",
        "ax.set_title('The sum USD value of the current supply. Also referred to as network value or market capitalization.', fontsize=16)\n",
        "\n",
        "\n",
        "# Show plot\n",
        "plt.savefig('btc_CapMrktCurUSD')"
      ],
      "execution_count": null,
      "outputs": []
    },
    {
      "cell_type": "code",
      "metadata": {
        "id": "1QgSbhCQ4vHO",
        "colab_type": "code",
        "colab": {}
      },
      "source": [
        "# Plot The number of block produced daily in the Bitcoin system.\n",
        "ax = df_CM['HashRate'].plot(color='blue', figsize=(14, 10), linewidth=2, fontsize=16)\n",
        "\n",
        "# Specify the x-axis label in your plot\n",
        "ax.set_xlabel('Date',fontsize=14)\n",
        "\n",
        "# Specify the title in your plot\n",
        "ax.set_title('The mean rate at which miners are solving hashes that interval.', fontsize=16)\n",
        "\n",
        "\n",
        "# Show plot\n",
        "plt.savefig('HashRate')"
      ],
      "execution_count": null,
      "outputs": []
    },
    {
      "cell_type": "code",
      "metadata": {
        "id": "wj0gmD2U5C5F",
        "colab_type": "code",
        "colab": {}
      },
      "source": [
        "# Plot The number of block produced daily in the Bitcoin system.\n",
        "ax = df_CM['ROI30d'].plot(color='blue', figsize=(14, 10), linewidth=2, fontsize=16)\n",
        "\n",
        "# Specify the x-axis label in your plot\n",
        "ax.set_xlabel('Date',fontsize=14)\n",
        "\n",
        "# Specify the title in your plot\n",
        "ax.set_title('The return on investment for the asset assuming a purchase 30 days prior.', fontsize=16)\n",
        "\n",
        "\n",
        "# Show plot\n",
        "plt.savefig('ROI30d')"
      ],
      "execution_count": null,
      "outputs": []
    },
    {
      "cell_type": "code",
      "metadata": {
        "id": "mYe_SILE4ff9",
        "colab_type": "code",
        "colab": {}
      },
      "source": [
        "df_CM.columns"
      ],
      "execution_count": null,
      "outputs": []
    },
    {
      "cell_type": "markdown",
      "metadata": {
        "id": "p6alj7_O4OiU",
        "colab_type": "text"
      },
      "source": [
        "**...Repeat the process and draw graph for all variables**\n",
        "\n",
        "      #Plot The number of block produced daily in the Bitcoin system.\n",
        "        ax = df_CM['*Replace with the variable name*'].plot(color='blue', figsize=(14, 10), linewidth=2, fontsize=16)\n",
        "\n",
        "      #Specify the x-axis label in your plot\n",
        "         ax.set_xlabel('Date',fontsize=14)\n",
        "\n",
        "      #Specify the title in your plot\n",
        "         ax.set_title('*Replace with the variable descriptions*', fontsize=16)\n",
        "\n",
        "      #Show plot\n",
        "         plt.savefig('*Replace with the variable name*')"
      ]
    },
    {
      "cell_type": "markdown",
      "metadata": {
        "id": "N3Qgy_jA1ZFD",
        "colab_type": "text"
      },
      "source": [
        "**Step 4 Polish Visualization**"
      ]
    },
    {
      "cell_type": "markdown",
      "metadata": {
        "id": "t6DKEpiz1iWU",
        "colab_type": "text"
      },
      "source": [
        "4.1 Adding Annotations"
      ]
    },
    {
      "cell_type": "code",
      "metadata": {
        "id": "8Mi3fJne0vwb",
        "colab_type": "code",
        "colab": {}
      },
      "source": [
        "#### Plot The number and accumulated number of BTC minted daily in scatter plot and the total BTC minted in line plot\n",
        "###Check all color maps here https://matplotlib.org/3.1.0/tutorials/colors/colormaps.html\n",
        "ax = df_CM[['IssTotNtv','SplyCur']].plot(figsize=(14, 10), linewidth=2, fontsize=16,subplots=True,legend=False, sharex=True, layout=(2,1))\n",
        "ax[0][0].set_title('The number of BTC minted daily from 2009-1-13 to 2020-7-28',fontsize=16)\n",
        "ax[1][0].set_title('The accumulated number of BTC minted daily from 2009-1-13 to 2020-7-28',fontsize=16)\n",
        "ax[0][0].set_ylim([0,15000])\n",
        "# Add a red vertical line for the first halving date\n",
        "ax[0][0].axvline('2012-11-28', color='red', linestyle='--')\n",
        "ax[1][0].axvline('2012-11-28', color='red', linestyle='--')\n",
        "ax[0][0].annotate('the first halving date 2012-11-28',\n",
        "            xy=('2012-12-28', 25000), \n",
        "            horizontalalignment='left', verticalalignment='top',fontsize=12)\n",
        "# Add a red vertical line for the second halving date\n",
        "ax[0][0].axvline('2016-07-09', color='red', linestyle='--')\n",
        "ax[1][0].axvline('2016-07-09', color='red', linestyle='--')\n",
        "ax[0][0].annotate('the second halving date 2016-07-09',\n",
        "            xy=('2016-08-09', 20000), \n",
        "            horizontalalignment='left', verticalalignment='top',fontsize=12)\n",
        "# Add a red vertical line for the third halving date\n",
        "ax[0][0].axvline('2020-05-11', color='red', linestyle='--')\n",
        "ax[1][0].axvline('2020-05-11', color='red', linestyle='--')\n",
        "ax[0][0].annotate('the third halving date 2020-05-11',\n",
        "            xy=('2020-06-11', 20000), \n",
        "            horizontalalignment='left', verticalalignment='top',fontsize=12)\n",
        "plt.savefig('btc_halving')"
      ],
      "execution_count": null,
      "outputs": []
    },
    {
      "cell_type": "markdown",
      "metadata": {
        "id": "B_cXRuuu2WT8",
        "colab_type": "text"
      },
      "source": [
        "4.2 Log y-axis"
      ]
    },
    {
      "cell_type": "code",
      "metadata": {
        "id": "UhKPCdbt1pX4",
        "colab_type": "code",
        "colab": {}
      },
      "source": [
        "#####plot the bitcion price and the NVT 90 Adjusted Ration\n",
        "ax = df_CM[['PriceUSD','NVTAdj90']]['2010-07-18': ].plot(figsize=(14, 10), linewidth=2, fontsize=16,subplots=True,legend=False, sharex=True, layout=(2,1))\n",
        "ax[0][0].set_title('The BTC price in USD from 2010-7-18 to 2020-7-28',fontsize=16)\n",
        "ax[1][0].set_title('The NVT Ratio from 2010-7-18 to 2020-7-28',fontsize=16)\n",
        "ax[0][0].set_yscale('log')\n",
        "plt.savefig('btc_NVT_log.png')"
      ],
      "execution_count": null,
      "outputs": []
    },
    {
      "cell_type": "markdown",
      "metadata": {
        "id": "8gT0HDJI3Qsc",
        "colab_type": "text"
      },
      "source": [
        "**Step 5: Generate New Variables**"
      ]
    },
    {
      "cell_type": "markdown",
      "metadata": {
        "id": "_CpanCp0APHA",
        "colab_type": "text"
      },
      "source": [
        "5.1 Example 1: Miners' daily revenue"
      ]
    },
    {
      "cell_type": "code",
      "metadata": {
        "id": "flabEq_b22Xi",
        "colab_type": "code",
        "colab": {}
      },
      "source": [
        "#calculate daily Revenue \n",
        "df_CM['The daily revenue of bitcoin miners']=df_CM['IssTotUSD']+df_CM['FeeTotUSD']\n",
        "#calcualte the accumulated revenue \n",
        "df_CM['The accumulated revenue of bitcoin miners']=df_CM['The daily revenue of bitcoin miners'].cumsum()"
      ],
      "execution_count": null,
      "outputs": []
    },
    {
      "cell_type": "code",
      "metadata": {
        "id": "akZHPBlc3ffX",
        "colab_type": "code",
        "colab": {}
      },
      "source": [
        "#plot the daily revenue and the accumulated revenue of bitcoin miners\n",
        "ax = df_CM[['The daily revenue of bitcoin miners','The accumulated revenue of bitcoin miners']]['2010-07-08': ].plot(figsize=(14, 10), linewidth=2, fontsize=16,subplots=True,legend=False, sharex=True, layout=(2,1))\n",
        "ax[0][0].set_title('The daily revenue of miners in USD from 2010-7-18 to 2020-7-28',fontsize=16)\n",
        "ax[1][0].set_title('The accumulated revenue of miners in USD from 2010-7-18 to 2020-7-28',fontsize=16)\n",
        "plt.savefig('btc_Revenue_merged.png')"
      ],
      "execution_count": null,
      "outputs": []
    },
    {
      "cell_type": "code",
      "metadata": {
        "id": "yhrrcrSr3uht",
        "colab_type": "code",
        "colab": {}
      },
      "source": [
        "df_CM.tail()"
      ],
      "execution_count": null,
      "outputs": []
    },
    {
      "cell_type": "markdown",
      "metadata": {
        "id": "JUxPmZ-RAWtB",
        "colab_type": "text"
      },
      "source": [
        "5.2 Example 2: Return of Investment for different durations of days"
      ]
    },
    {
      "cell_type": "code",
      "metadata": {
        "id": "M8CLs1GG6eWl",
        "colab_type": "code",
        "colab": {}
      },
      "source": [
        "###Calculate Return on Investment for a certain duration, check consistency with existing data\n",
        "df_CM['ROI30d_Calculated']=df_CM['PriceUSD'].pct_change(periods=30)*100\n",
        "df_CM[['ROI30d_Calculated','ROI30d']].tail()"
      ],
      "execution_count": null,
      "outputs": []
    },
    {
      "cell_type": "code",
      "metadata": {
        "id": "WNPhRNZ579ni",
        "colab_type": "code",
        "colab": {}
      },
      "source": [
        "df_CM['ROI60d_Calculated']=df_CM['PriceUSD'].pct_change(periods=60)*100\n",
        "df_CM['ROI90d_Calculated']=df_CM['PriceUSD'].pct_change(periods=90)*100\n",
        "df_CM['ROI180d_Calculated']=df_CM['PriceUSD'].pct_change(periods=180)*100"
      ],
      "execution_count": null,
      "outputs": []
    },
    {
      "cell_type": "code",
      "metadata": {
        "id": "P6rWYqUi8Xww",
        "colab_type": "code",
        "colab": {}
      },
      "source": [
        "ax=df_CM[['ROI30d_Calculated','ROI60d_Calculated','ROI90d_Calculated','ROI180d_Calculated','ROI1yr']].plot(figsize=(14, 10), linewidth=2, fontsize=16,subplots=False,legend=True) \n",
        "plt.savefig('btc_ROI_Multi_Durations.png')                                                                                                    "
      ],
      "execution_count": null,
      "outputs": []
    },
    {
      "cell_type": "markdown",
      "metadata": {
        "id": "p-kZ5oaiAdfk",
        "colab_type": "text"
      },
      "source": [
        "5.3 Example 3: Volatility for different durations of days."
      ]
    },
    {
      "cell_type": "code",
      "metadata": {
        "id": "kx3M7Qkn8mSx",
        "colab_type": "code",
        "colab": {}
      },
      "source": [
        "###Calculate Volatility for a certain duration, check consistency with existing data\n",
        "###The 180D volatility, measured as the standard deviation of the natural log of daily returns over the past 180 days.\n",
        "df_CM['log_dailyReturn']=np.log(df_CM['PriceUSD']/df_CM['PriceUSD'].shift(1))\n",
        "df_CM['VtyDayRet180d_Calculated']=df_CM['log_dailyReturn'].rolling(window=180).std()\n",
        "df_CM[['VtyDayRet180d_Calculated','VtyDayRet180d']].tail()"
      ],
      "execution_count": null,
      "outputs": []
    },
    {
      "cell_type": "code",
      "metadata": {
        "id": "PZqerOky96Oi",
        "colab_type": "code",
        "colab": {}
      },
      "source": [
        "df_CM['VtyDayRet90d_Calculated']=df_CM['log_dailyReturn'].rolling(window=90).std()"
      ],
      "execution_count": null,
      "outputs": []
    },
    {
      "cell_type": "code",
      "metadata": {
        "id": "RvzoCXpc_z0h",
        "colab_type": "code",
        "colab": {}
      },
      "source": [
        "ax=df_CM[['VtyDayRet30d','VtyDayRet60d','VtyDayRet90d_Calculated','VtyDayRet180d']].plot(figsize=(14, 10), linewidth=2, fontsize=16,subplots=False,legend=True) \n",
        "plt.savefig('btc_Volatility_Multi_Durations.png')   "
      ],
      "execution_count": null,
      "outputs": []
    },
    {
      "cell_type": "code",
      "metadata": {
        "id": "pufWZqHOAE1k",
        "colab_type": "code",
        "colab": {}
      },
      "source": [
        ""
      ],
      "execution_count": null,
      "outputs": []
    }
  ]
}